{
 "cells": [
  {
   "cell_type": "code",
   "execution_count": 2,
   "id": "c087db64",
   "metadata": {},
   "outputs": [
    {
     "name": "stdout",
     "output_type": "stream",
     "text": [
      "0    55.0\n",
      "1    65.0\n",
      "2    65.0\n",
      "3    65.0\n",
      "4    70.0\n",
      "5    80.0\n",
      "6    80.0\n",
      "7    70.0\n",
      "8    80.0\n",
      "9    90.0\n",
      "dtype: float64\n"
     ]
    }
   ],
   "source": [
    "import pandas as pd\n",
    "\n",
    "cumulative_miles = [55, 120, 185, 250, 320, 400, 480, 550, 630, 720]\n",
    "\n",
    "cumulative_series = pd.Series(cumulative_miles)\n",
    "\n",
    "daily_miles = cumulative_series.diff().fillna(cumulative_series[0])\n",
    "print(daily_miles)\n"
   ]
  },
  {
   "cell_type": "code",
   "execution_count": 3,
   "id": "2064bea0",
   "metadata": {},
   "outputs": [
    {
     "data": {
      "image/png": "[encoded data removed]",
      "text/plain": [
       "<Figure size 432x288 with 1 Axes>"
      ]
     },
     "metadata": {
      "needs_background": "light"
     },
     "output_type": "display_data"
    }
   ],
   "source": [
    "import matplotlib.pyplot as plt\n",
    "\n",
    "daily_miles.plot(kind='bar', xlabel='Day', ylabel='Total Miles Ridden')\n",
    "plt.show()"
   ]
  },
  {
   "cell_type": "code",
   "execution_count": null,
   "id": "dbd5b3f8",
   "metadata": {},
   "outputs": [],
   "source": []
  }
 ],
 "metadata": {
  "kernelspec": {
   "display_name": "Python 3 (ipykernel)",
   "language": "python",
   "name": "python3"
  },
  "language_info": {
   "codemirror_mode": {
    "name": "ipython",
    "version": 3
   },
   "file_extension": ".py",
   "mimetype": "text/x-python",
   "name": "python",
   "nbconvert_exporter": "python",
   "pygments_lexer": "ipython3",
   "version": "3.9.7"
  }
 },
 "nbformat": 4,
 "nbformat_minor": 5
}
